{
 "cells": [
  {
   "cell_type": "markdown",
   "id": "6695967d-9be5-4e36-99c8-a65cdabb23ca",
   "metadata": {},
   "source": [
    "## 💡 Feature Explanations for Non-Technical Reviewers\n",
    "\n",
    "This enriched dataset includes technical indicators used by traders, with easy-to-read AI-generated summaries to guide trade decisions.\n",
    "\n",
    "| Column            | What it Means                                                                 |\n",
    "|------------------|--------------------------------------------------------------------------------|\n",
    "| `ticker`         | Stock symbol for the company.                                                  |\n",
    "| `gap_pct`        | % difference between today's open and yesterday's close. <br>➕ Gap Up = bullish open; ➖ Gap Down = bearish open. |\n",
    "| `rsi`            | Relative Strength Index. Ranges from 0–100. Overbought if >70, oversold if <30. |\n",
    "| `rel_volume`     | Volume today vs. average. >1 = unusual activity, <1 = quieter than normal.     |\n",
    "| `llm_summary`    | Plain-language 3-sentence AI summary for what might be happening technically.  |\n",
    "\n",
    "These features help newer traders understand what setups may be forming **without needing to interpret charts**."
   ]
  },
  {
   "cell_type": "code",
   "execution_count": 10,
   "id": "479fbad4-9441-4bfc-a018-b6c7edfb69fc",
   "metadata": {},
   "outputs": [],
   "source": [
    "import os\n",
    "import sys\n",
    "import pandas as pd\n",
    "\n",
    "# Load environment + script path\n",
    "from dotenv import load_dotenv\n",
    "sys.path.append(os.path.abspath(\"../scripts\"))\n",
    "load_dotenv()\n",
    "\n",
    "# Import OpenAI summarizer\n",
    "from summarize_with_llm import summarize_trade"
   ]
  },
  {
   "cell_type": "code",
   "execution_count": 11,
   "id": "9927453a-4081-4403-8699-3c07f9bcfe8e",
   "metadata": {},
   "outputs": [
    {
     "name": "stdout",
     "output_type": "stream",
     "text": [
      "Columns: ['ticker', 'prev_close', 'open', 'gap_pct', 'timestamp', 'rsi', 'rel_volume', 'dist_from_5d_high', 'dist_from_5d_low']\n"
     ]
    }
   ],
   "source": [
    "# --- Load enriched dataset with engineered features ---\n",
    "df = pd.read_csv(\"../notebooks/feature_output.csv\")\n",
    "\n",
    "# Sanity check: confirm required columns exist\n",
    "print(\"Columns:\", df.columns.tolist())"
   ]
  },
  {
   "cell_type": "code",
   "execution_count": 12,
   "id": "dc6568b0-acff-443e-9d76-5ee6ab55aead",
   "metadata": {},
   "outputs": [
    {
     "data": {
      "text/html": [
       "<div>\n",
       "<style scoped>\n",
       "    .dataframe tbody tr th:only-of-type {\n",
       "        vertical-align: middle;\n",
       "    }\n",
       "\n",
       "    .dataframe tbody tr th {\n",
       "        vertical-align: top;\n",
       "    }\n",
       "\n",
       "    .dataframe thead th {\n",
       "        text-align: right;\n",
       "    }\n",
       "</style>\n",
       "<table border=\"1\" class=\"dataframe\">\n",
       "  <thead>\n",
       "    <tr style=\"text-align: right;\">\n",
       "      <th></th>\n",
       "      <th>ticker</th>\n",
       "      <th>gap_pct</th>\n",
       "      <th>rsi</th>\n",
       "      <th>rel_volume</th>\n",
       "      <th>llm_summary</th>\n",
       "    </tr>\n",
       "  </thead>\n",
       "  <tbody>\n",
       "    <tr>\n",
       "      <th>0</th>\n",
       "      <td>NVDA</td>\n",
       "      <td>0.71</td>\n",
       "      <td>70.98</td>\n",
       "      <td>0.73</td>\n",
       "      <td>1. Technically, NVDA is showing mixed signals ...</td>\n",
       "    </tr>\n",
       "    <tr>\n",
       "      <th>1</th>\n",
       "      <td>TSLA</td>\n",
       "      <td>0.74</td>\n",
       "      <td>48.41</td>\n",
       "      <td>0.59</td>\n",
       "      <td>1. Technically, Tesla (TSLA) is showing a slig...</td>\n",
       "    </tr>\n",
       "    <tr>\n",
       "      <th>2</th>\n",
       "      <td>AAPL</td>\n",
       "      <td>-0.14</td>\n",
       "      <td>74.80</td>\n",
       "      <td>0.50</td>\n",
       "      <td>1. Technically, AAPL is showing mixed signals....</td>\n",
       "    </tr>\n",
       "    <tr>\n",
       "      <th>3</th>\n",
       "      <td>AMD</td>\n",
       "      <td>0.43</td>\n",
       "      <td>73.48</td>\n",
       "      <td>0.63</td>\n",
       "      <td>1. Technically, AMD is showing a slight bullis...</td>\n",
       "    </tr>\n",
       "    <tr>\n",
       "      <th>4</th>\n",
       "      <td>MSFT</td>\n",
       "      <td>0.55</td>\n",
       "      <td>69.45</td>\n",
       "      <td>0.62</td>\n",
       "      <td>1. Technically, Microsoft (MSFT) has a slight ...</td>\n",
       "    </tr>\n",
       "  </tbody>\n",
       "</table>\n",
       "</div>"
      ],
      "text/plain": [
       "  ticker  gap_pct    rsi  rel_volume  \\\n",
       "0   NVDA     0.71  70.98        0.73   \n",
       "1   TSLA     0.74  48.41        0.59   \n",
       "2   AAPL    -0.14  74.80        0.50   \n",
       "3    AMD     0.43  73.48        0.63   \n",
       "4   MSFT     0.55  69.45        0.62   \n",
       "\n",
       "                                         llm_summary  \n",
       "0  1. Technically, NVDA is showing mixed signals ...  \n",
       "1  1. Technically, Tesla (TSLA) is showing a slig...  \n",
       "2  1. Technically, AAPL is showing mixed signals....  \n",
       "3  1. Technically, AMD is showing a slight bullis...  \n",
       "4  1. Technically, Microsoft (MSFT) has a slight ...  "
      ]
     },
     "execution_count": 12,
     "metadata": {},
     "output_type": "execute_result"
    }
   ],
   "source": [
    "# Apply LLM summarization to each row\n",
    "df[\"llm_summary\"] = df.apply(summarize_trade, axis=1)\n",
    "\n",
    "# Preview the results\n",
    "df[[\"ticker\", \"gap_pct\", \"rsi\", \"rel_volume\", \"llm_summary\"]]"
   ]
  },
  {
   "cell_type": "code",
   "execution_count": 13,
   "id": "15c4573b-7661-45ee-8c9f-0cf74767b3f2",
   "metadata": {},
   "outputs": [
    {
     "name": "stdout",
     "output_type": "stream",
     "text": [
      "✅ Saved to llm_summaries_output.csv\n"
     ]
    }
   ],
   "source": [
    "# --- Save enriched dataset with LLM summaries ---\n",
    "df.to_csv(\"../notebooks/llm_summaries_output.csv\", index=False)\n",
    "print(\"✅ Saved to llm_summaries_output.csv\")"
   ]
  },
  {
   "cell_type": "markdown",
   "id": "14ac0af1-3a40-45ab-bb41-bd84bc3390bf",
   "metadata": {},
   "source": [
    "## ✅ Notebook Complete: AI-Enhanced Premarket Analysis\n",
    "\n",
    "This notebook applied GPT-4 to enrich each premarket ticker with a plain-English summary of what technical conditions are forming.\n",
    "\n",
    "**Next Steps**:\n",
    "- Visualize gap % and RSI across stocks\n",
    "- Add a Streamlit or Looker dashboard\n",
    "- Deploy alerts for Gap + RSI setups\n",
    "\n",
    "This bridges technical signals with natural language interpretation — useful for traders, analysts, and beginner learners alike."
   ]
  }
 ],
 "metadata": {
  "kernelspec": {
   "display_name": "Python 3 (ipykernel)",
   "language": "python",
   "name": "python3"
  },
  "language_info": {
   "codemirror_mode": {
    "name": "ipython",
    "version": 3
   },
   "file_extension": ".py",
   "mimetype": "text/x-python",
   "name": "python",
   "nbconvert_exporter": "python",
   "pygments_lexer": "ipython3",
   "version": "3.10.12"
  }
 },
 "nbformat": 4,
 "nbformat_minor": 5
}
