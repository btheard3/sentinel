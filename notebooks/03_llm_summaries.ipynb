{
 "cells": [
  {
   "cell_type": "markdown",
   "id": "6695967d-9be5-4e36-99c8-a65cdabb23ca",
   "metadata": {},
   "source": [
    "## 💡 Feature Explanations for Non-Technical Reviewers\n",
    "\n",
    "This enriched dataset includes technical indicators used by traders, with easy-to-read AI-generated summaries to guide trade decisions.\n",
    "\n",
    "| Column            | What it Means                                                                 |\n",
    "|------------------|--------------------------------------------------------------------------------|\n",
    "| `ticker`         | Stock symbol for the company.                                                  |\n",
    "| `gap_pct`        | % difference between today's open and yesterday's close. <br>➕ Gap Up = bullish open; ➖ Gap Down = bearish open. |\n",
    "| `rsi`            | Relative Strength Index. Ranges from 0–100. Overbought if >70, oversold if <30. |\n",
    "| `rel_volume`     | Volume today vs. average. >1 = unusual activity, <1 = quieter than normal.     |\n",
    "| `llm_summary`    | Plain-language 3-sentence AI summary for what might be happening technically.  |\n",
    "\n",
    "These features help newer traders understand what setups may be forming **without needing to interpret charts**."
   ]
  },
  {
   "cell_type": "code",
   "execution_count": 1,
   "id": "479fbad4-9441-4bfc-a018-b6c7edfb69fc",
   "metadata": {},
   "outputs": [],
   "source": [
    "import os\n",
    "import sys\n",
    "import pandas as pd\n",
    "\n",
    "# Load environment + script path\n",
    "from dotenv import load_dotenv\n",
    "sys.path.append(os.path.abspath(\"../scripts\"))\n",
    "load_dotenv()\n",
    "\n",
    "# Import OpenAI summarizer\n",
    "from summarize_with_llm import summarize_trade"
   ]
  },
  {
   "cell_type": "code",
   "execution_count": 2,
   "id": "9927453a-4081-4403-8699-3c07f9bcfe8e",
   "metadata": {},
   "outputs": [
    {
     "name": "stdout",
     "output_type": "stream",
     "text": [
      "Columns: ['ticker', 'prev_close', 'open', 'gap_pct', 'timestamp', 'rsi', 'rel_volume', 'dist_from_5d_high', 'dist_from_5d_low']\n"
     ]
    }
   ],
   "source": [
    "# --- Load enriched dataset with engineered features ---\n",
    "df = pd.read_csv(\"../data/feature_output.csv\")\n",
    "\n",
    "# Sanity check: confirm required columns exist\n",
    "print(\"Columns:\", df.columns.tolist())"
   ]
  },
  {
   "cell_type": "code",
   "execution_count": 3,
   "id": "dc6568b0-acff-443e-9d76-5ee6ab55aead",
   "metadata": {},
   "outputs": [
    {
     "name": "stdout",
     "output_type": "stream",
     "text": [
      "NVDA:\n",
      "1. Technically, NVDA is showing a slight gap up of 0.69% with a relatively high RSI of 74.44, indicating it may be overbought. It's trading volume is lower than usual (0.74 relative volume), and it's currently close to its 5-day high, but significantly above its 5-day low.\n",
      "2. This setup could indicate the formation of a potential short selling opportunity or a put option if the price starts to decline, as the RSI suggests overbuying and the stock may be due for a pullback.\n",
      "3. The risk to watch out for is the stock continuing to rise despite the high RSI, which would invalidate a short sell setup. The confirmation would be a reversal pattern or a decrease in price, indicating the start of a potential downtrend.\n",
      "--------------------------------------------------------------------------------\n",
      "TSLA:\n",
      "1. Technically, TSLA has gapped up by 1.0% but is exhibiting relatively low volume (0.87) and is in the oversold territory with an RSI of 38.32. It is currently trading 6.45% below its 5-day high and 3.16% above its 5-day low.\n",
      "2. This setup could potentially form a reversal trade, as the oversold RSI coupled with the gap up might indicate a bullish reversal in the near term.\n",
      "3. Traders should watch for an increase in volume and RSI crossing above the 40 level as a confirmation of bullish sentiment. The risk lies in the price falling back to or below the 5-day low, which could indicate continued bearish sentiment.\n",
      "--------------------------------------------------------------------------------\n",
      "AAPL:\n",
      "1. Technically, AAPL is showing a minor gap up with an RSI suggesting it is slightly overbought. The stock is trading closer to its 5-day low than its high, indicating a recent pullback, and its relative volume is below 1, suggesting lower than average trading activity.\n",
      "2. This setup may suggest a potential rebound or short-term rally if the stock can maintain its momentum and break above its 5-day high. An option trader might consider a long call or a bullish spread strategy.\n",
      "3. The risk to watch for is if the stock fails to break above its 5-day high, which could signal a continuation of the downtrend. Also, the overbought RSI could indicate a potential price reversal. The confirmation would be a strong volume push above the 5-day high.\n",
      "--------------------------------------------------------------------------------\n",
      "AMD:\n",
      "1. Technically, AMD is showing some bullish signs with a 1.88% gap up, although it is slightly overbought with an RSI of 66.3. It's trading closer to its 5-day high than its low, indicating recent upward momentum.\n",
      "2. The setup might suggest a potential continuation of the bullish trend, especially if the stock can maintain its position above the 5-day low. However, the lower relative volume might imply weaker conviction in the current price movement.\n",
      "3. Traders should watch for a potential reversal due to the overbought RSI level. A drop below the 5-day low or a significant increase in volume could act as confirmation for the trend's continuation or reversal.\n",
      "--------------------------------------------------------------------------------\n",
      "MSFT:\n",
      "1. Technically, Microsoft (MSFT) is showing a slight bearish gap of -0.06% and is near overbought territory with an RSI of 69.06. The stock is trading closer to its 5-day high, with a relative volume of 0.53 indicating lower trading activity than usual.\n",
      "2. This setup might suggest a potential short-term pullback due to the high RSI, but the stock is still in a relatively strong position given its closeness to the 5-day high. The lower volume could indicate less conviction in the current price movement.\n",
      "3. Traders should watch for a reversal signal or a break above the 5-day high as confirmation of continued bullish momentum. The risk lies in the potential for a pullback due to the high RSI, so a stop loss near the 5-day low could be considered to limit potential losses.\n",
      "--------------------------------------------------------------------------------\n"
     ]
    }
   ],
   "source": [
    "# Allow full column width for display\n",
    "pd.set_option('display.max_colwidth', None)\n",
    "\n",
    "# Apply LLM summarization to each row\n",
    "df[\"llm_summary\"] = df.apply(summarize_trade, axis=1)\n",
    "\n",
    "# Preview the results\n",
    "for i, row in df.iterrows():\n",
    "    print(f\"{row['ticker']}:\")\n",
    "    print(row['llm_summary'])\n",
    "    print(\"-\" * 80)"
   ]
  },
  {
   "cell_type": "code",
   "execution_count": 4,
   "id": "15c4573b-7661-45ee-8c9f-0cf74767b3f2",
   "metadata": {},
   "outputs": [
    {
     "name": "stdout",
     "output_type": "stream",
     "text": [
      "✅ Saved to llm_summaries_output.csv\n"
     ]
    }
   ],
   "source": [
    "# --- Save enriched dataset with LLM summaries ---\n",
    "df.to_csv(\"../data/llm_summaries_output.csv\", index=False)\n",
    "print(\"Saved to llm_summaries_output.csv\")"
   ]
  },
  {
   "cell_type": "markdown",
   "id": "b349fdd6-32e1-4f22-8ecc-bc625354a7bd",
   "metadata": {},
   "source": [
    "# Notebook Complete: AI-Enhanced Premarket Analysis\n",
    "\n",
    "This notebook applied GPT-4 to enrich each premarket ticker with a plain-English summary of what technical conditions are forming.\n",
    "\n",
    "This bridges technical signals with natural language interpretation — useful for traders, analysts, and beginner learners alike."
   ]
  }
 ],
 "metadata": {
  "kernelspec": {
   "display_name": "Python 3 (ipykernel)",
   "language": "python",
   "name": "python3"
  },
  "language_info": {
   "codemirror_mode": {
    "name": "ipython",
    "version": 3
   },
   "file_extension": ".py",
   "mimetype": "text/x-python",
   "name": "python",
   "nbconvert_exporter": "python",
   "pygments_lexer": "ipython3",
   "version": "3.10.12"
  }
 },
 "nbformat": 4,
 "nbformat_minor": 5
}
