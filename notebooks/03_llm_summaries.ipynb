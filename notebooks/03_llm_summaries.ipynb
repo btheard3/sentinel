{
 "cells": [
  {
   "cell_type": "markdown",
   "id": "6695967d-9be5-4e36-99c8-a65cdabb23ca",
   "metadata": {},
   "source": [
    "## 💡 Feature Explanations for Non-Technical Reviewers\n",
    "\n",
    "This enriched dataset includes technical indicators used by traders, with easy-to-read AI-generated summaries to guide trade decisions.\n",
    "\n",
    "| Column            | What it Means                                                                 |\n",
    "|------------------|--------------------------------------------------------------------------------|\n",
    "| `ticker`         | Stock symbol for the company.                                                  |\n",
    "| `gap_pct`        | % difference between today's open and yesterday's close. <br>➕ Gap Up = bullish open; ➖ Gap Down = bearish open. |\n",
    "| `rsi`            | Relative Strength Index. Ranges from 0–100. Overbought if >70, oversold if <30. |\n",
    "| `rel_volume`     | Volume today vs. average. >1 = unusual activity, <1 = quieter than normal.     |\n",
    "| `llm_summary`    | Plain-language 3-sentence AI summary for what might be happening technically.  |\n",
    "\n",
    "These features help newer traders understand what setups may be forming **without needing to interpret charts**."
   ]
  },
  {
   "cell_type": "code",
   "execution_count": 1,
   "id": "479fbad4-9441-4bfc-a018-b6c7edfb69fc",
   "metadata": {},
   "outputs": [],
   "source": [
    "import os\n",
    "import sys\n",
    "import pandas as pd\n",
    "\n",
    "# Load environment + script path\n",
    "from dotenv import load_dotenv\n",
    "sys.path.append(os.path.abspath(\"../scripts\"))\n",
    "load_dotenv()\n",
    "\n",
    "# Import OpenAI summarizer\n",
    "from summarize_with_llm import summarize_trade"
   ]
  },
  {
   "cell_type": "code",
   "execution_count": 2,
   "id": "9927453a-4081-4403-8699-3c07f9bcfe8e",
   "metadata": {},
   "outputs": [
    {
     "name": "stdout",
     "output_type": "stream",
     "text": [
      "Columns: ['ticker', 'prev_close', 'open', 'gap_pct', 'timestamp', 'rsi', 'rel_volume', 'dist_from_5d_high', 'dist_from_5d_low']\n"
     ]
    }
   ],
   "source": [
    "# --- Load enriched dataset with engineered features ---\n",
    "df = pd.read_csv(\"../data/feature_output.csv\")\n",
    "\n",
    "# Sanity check: confirm required columns exist\n",
    "print(\"Columns:\", df.columns.tolist())"
   ]
  },
  {
   "cell_type": "code",
   "execution_count": 3,
   "id": "dc6568b0-acff-443e-9d76-5ee6ab55aead",
   "metadata": {},
   "outputs": [
    {
     "name": "stdout",
     "output_type": "stream",
     "text": [
      "NVDA:\n",
      "1. NVDA is showing signs of being overbought with an RSI of 75.22 and is currently trading near its 5-day high, despite opening with a minor gap down of -0.72% and having a below-average relative volume of 0.81.\n",
      "2. This could potentially set up for a short-term pullback or consolidation trade, as the overbought condition often leads to a temporary reversal.\n",
      "3. Traders should watch for a confirmation of this setup with an increase in selling volume or a bearish candlestick pattern. The risk to this setup would be if NVDA continues its upward momentum, defying the overbought signals.\n",
      "--------------------------------------------------------------------------------\n",
      "TSLA:\n",
      "1. Technically, TSLA is showing bearish signs with a significant gap down of -7.6% and a distance from the 5-day high of -9.72%. The RSI is also below the mid-line at 38.26, indicating oversold conditions.\n",
      "2. This setup could be forming a potential short selling opportunity or a put option scenario as the market sentiment seems to be bearish.\n",
      "3. The risk to watch for is a potential bounce back due to the oversold conditions indicated by the low RSI. A confirmation to solidify the bearish scenario would be an increase in selling volume or further downward price movement.\n",
      "--------------------------------------------------------------------------------\n",
      "AAPL:\n",
      "1. Technically, AAPL is showing signs of being overbought as the RSI is over 70. It has gapped down slightly (-0.41%) and is trading near its five-day high (-2.9%), with a relative volume slightly below the average (0.77).\n",
      "2. This could potentially indicate a short-term bearish reversal setup, as overbought conditions often precede price pullbacks. The proximity to the 5-day high could also suggest resistance.\n",
      "3. Traders should watch for a confirmation of this setup such as a bearish candlestick pattern or an increase in selling volume. The risk here is that the stock continues its upward trend, defying the overbought signal, particularly if bullish news or events occur.\n",
      "--------------------------------------------------------------------------------\n",
      "AMD:\n",
      "1. Technically, AMD is showing a somewhat bearish trend, with a gap down of -0.98% and a significant distance from its 5-day high of -7.67%. However, the RSI is in the overbought territory (above 70), which could indicate a potential trend reversal.\n",
      "2. The setup could be forming for a short-term pullback or correction due to the high RSI and negative gap. This might present an opportunity for a put option trade, anticipating a short-term price decrease.\n",
      "3. Traders should watch for a confirmation of this bearish trend, such as a further increase in selling volume. The risk lies in the RSI potentially indicating a reversal instead of a continuation of the bearish trend, so look for other confirming indicators before entering a trade.\n",
      "--------------------------------------------------------------------------------\n",
      "MSFT:\n",
      "1. Technically, Microsoft (MSFT) is showing signs of being overbought, as indicated by the RSI of 73.44. The stock has a slight negative gap and is trading below its average volume, with a relative volume of 0.75.\n",
      "2. The stock may be setting up for a slight pullback or consolidation due to its overbought condition and its distance from its 5-day high. The small gap down could indicate a potential short-term bearish setup.\n",
      "3. Traders should watch for a continuation of lower volumes and further increases in the RSI as a risk of a potential pullback. A drop below the 5-day low could confirm the bearish setup. Conversely, a move back towards the 5-day high on higher volume could indicate a continuation of the bullish trend.\n",
      "--------------------------------------------------------------------------------\n"
     ]
    }
   ],
   "source": [
    "# Allow full column width for display\n",
    "pd.set_option('display.max_colwidth', None)\n",
    "\n",
    "# Apply LLM summarization to each row\n",
    "df[\"llm_summary\"] = df.apply(summarize_trade, axis=1)\n",
    "\n",
    "# Preview the results\n",
    "for i, row in df.iterrows():\n",
    "    print(f\"{row['ticker']}:\")\n",
    "    print(row['llm_summary'])\n",
    "    print(\"-\" * 80)"
   ]
  },
  {
   "cell_type": "code",
   "execution_count": 4,
   "id": "15c4573b-7661-45ee-8c9f-0cf74767b3f2",
   "metadata": {},
   "outputs": [
    {
     "name": "stdout",
     "output_type": "stream",
     "text": [
      "✅ Saved to llm_summaries_output.csv\n"
     ]
    }
   ],
   "source": [
    "# --- Save enriched dataset with LLM summaries ---\n",
    "df.to_csv(\"../data/llm_summaries_output.csv\", index=False)\n",
    "print(\"✅ Saved to llm_summaries_output.csv\")"
   ]
  },
  {
   "cell_type": "markdown",
   "id": "14ac0af1-3a40-45ab-bb41-bd84bc3390bf",
   "metadata": {},
   "source": [
    "## ✅ Notebook Complete: AI-Enhanced Premarket Analysis\n",
    "\n",
    "This notebook applied GPT-4 to enrich each premarket ticker with a plain-English summary of what technical conditions are forming.\n",
    "\n",
    "**Next Steps**:\n",
    "- Visualize gap % and RSI across stocks\n",
    "- Add a Streamlit or Looker dashboard\n",
    "- Deploy alerts for Gap + RSI setups\n",
    "\n",
    "This bridges technical signals with natural language interpretation — useful for traders, analysts, and beginner learners alike."
   ]
  }
 ],
 "metadata": {
  "kernelspec": {
   "display_name": "Python 3 (ipykernel)",
   "language": "python",
   "name": "python3"
  },
  "language_info": {
   "codemirror_mode": {
    "name": "ipython",
    "version": 3
   },
   "file_extension": ".py",
   "mimetype": "text/x-python",
   "name": "python",
   "nbconvert_exporter": "python",
   "pygments_lexer": "ipython3",
   "version": "3.10.12"
  }
 },
 "nbformat": 4,
 "nbformat_minor": 5
}
